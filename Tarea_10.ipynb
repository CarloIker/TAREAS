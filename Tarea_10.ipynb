{
  "nbformat": 4,
  "nbformat_minor": 0,
  "metadata": {
    "colab": {
      "name": "Tarea_10.ipynb",
      "provenance": [],
      "authorship_tag": "ABX9TyMYc9pxBWVYf2ufIcEGpD3X",
      "include_colab_link": true
    },
    "kernelspec": {
      "name": "python3",
      "display_name": "Python 3"
    },
    "language_info": {
      "name": "python"
    }
  },
  "cells": [
    {
      "cell_type": "markdown",
      "metadata": {
        "id": "view-in-github",
        "colab_type": "text"
      },
      "source": [
        "<a href=\"https://colab.research.google.com/github/CarloIker/TAREAS/blob/main/Tarea_10.ipynb\" target=\"_parent\"><img src=\"https://colab.research.google.com/assets/colab-badge.svg\" alt=\"Open In Colab\"/></a>"
      ]
    },
    {
      "cell_type": "code",
      "metadata": {
        "id": "Ry_Q3taOqgSG"
      },
      "source": [
        "class PriorityQueue:\n",
        "  def __init__(self):\n",
        "    self.data = [[], [], [], [], []]\n",
        "\n",
        "  def is_empty(self):\n",
        "    for elem in self.data:\n",
        "      for elemns in elem:\n",
        "        if len(elemns) != 0:\n",
        "          return False\n",
        "        elif self.lenght() == 0:\n",
        "          return True\n",
        "\n",
        "  def lenght(self):\n",
        "    return len(self.data[0])+len(self.data[1])+len(self.data[2])+len(self.data[3])+len(self.data[4])\n",
        "\n",
        "  def enqueue(self, prioridad, elem):\n",
        "    self.data[prioridad-1].append(elem)\n",
        "\n",
        "  def dequeue(self):\n",
        "    if self.is_empty() == None:\n",
        "      print('No se puede eliminar nada')\n",
        "    else:\n",
        "      del self.data[0][0]\n",
        "      if len(self.data[0]) == 0:\n",
        "        del self.data[0]\n",
        "\n",
        "  def to_String(self):\n",
        "    for elem in self.data:\n",
        "      print(f'|{elem} |<--', end=\"\")\n",
        "    print(\" \")"
      ],
      "execution_count": 153,
      "outputs": []
    },
    {
      "cell_type": "code",
      "metadata": {
        "colab": {
          "base_uri": "https://localhost:8080/"
        },
        "id": "GlhWeYF-qrYL",
        "outputId": "191e1fdd-59bc-4627-a3fe-72be9aa403dc"
      },
      "source": [
        "cola = PriorityQueue()\n",
        "cola.enqueue(4, 'Maestros')\n",
        "cola.enqueue(2, 'Niños')\n",
        "cola.enqueue(4, 'Mecanico')\n",
        "cola.enqueue(3, 'Hombres')\n",
        "cola.enqueue(4, 'Vigia')\n",
        "cola.enqueue(5, 'Capitan')\n",
        "cola.enqueue(4, 'Timonel')\n",
        "cola.enqueue(3, 'Mujeres')\n",
        "cola.enqueue(2, '3ra edad')\n",
        "cola.enqueue(1, 'Niñas')\n",
        "\n",
        "print('Está vacía?:', cola.is_empty())\n",
        "print('El numero de elementos es:', cola.lenght())\n",
        "cola.to_String()\n",
        "print('\\n Sacar el elemento del frente')\n",
        "cola.dequeue()\n",
        "cola.to_String()"
      ],
      "execution_count": 154,
      "outputs": [
        {
          "output_type": "stream",
          "name": "stdout",
          "text": [
            "Está vacía?: False\n",
            "El numero de elementos es: 10\n",
            "|['Niñas'] |<--|['Niños', '3ra edad'] |<--|['Hombres', 'Mujeres'] |<--|['Maestros', 'Mecanico', 'Vigia', 'Timonel'] |<--|['Capitan'] |<-- \n",
            "\n",
            " Sacar el elemento del frente\n",
            "|['Niños', '3ra edad'] |<--|['Hombres', 'Mujeres'] |<--|['Maestros', 'Mecanico', 'Vigia', 'Timonel'] |<--|['Capitan'] |<-- \n"
          ]
        }
      ]
    }
  ]
}