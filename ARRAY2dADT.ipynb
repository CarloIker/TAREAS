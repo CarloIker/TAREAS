{
  "nbformat": 4,
  "nbformat_minor": 0,
  "metadata": {
    "colab": {
      "name": "ARRAY2dADT.ipynb",
      "provenance": [],
      "collapsed_sections": [],
      "authorship_tag": "ABX9TyMl+6GxbTGY+QBZK+YCCoMI",
      "include_colab_link": true
    },
    "kernelspec": {
      "name": "python3",
      "display_name": "Python 3"
    },
    "language_info": {
      "name": "python"
    }
  },
  "cells": [
    {
      "cell_type": "markdown",
      "metadata": {
        "id": "view-in-github",
        "colab_type": "text"
      },
      "source": [
        "<a href=\"https://colab.research.google.com/github/CarloIker/TAREAS/blob/main/ARRAY2dADT.ipynb\" target=\"_parent\"><img src=\"https://colab.research.google.com/assets/colab-badge.svg\" alt=\"Open In Colab\"/></a>"
      ]
    },
    {
      "cell_type": "code",
      "metadata": {
        "id": "1hz5UT5bnQAl"
      },
      "source": [
        "class Array2DADT:\n",
        "  def __init__(self, ren, col):\n",
        "    self.__pollo = [[0 for y in range(col)] for x in range(ren)]\n",
        "    \n",
        "  def clear(self, dato):\n",
        "    self.__pollo = [[dato for y in range(self.get_col_size())] for x in range(self.get_row_size())]\n",
        "\n",
        "  def get_row_size(self):\n",
        "    return len(self.__pollo)\n",
        "\n",
        "  def get_col_size(self):\n",
        "    return len(self.__pollo[0])\n",
        "\n",
        "  def set_item(self, ren, col, dato):\n",
        "    self.__pollo[ren][col] = dato\n",
        "\n",
        "  def get_item(self, ren, col):\n",
        "    return self.__pollo[ren][col]\n",
        "\n",
        "  def to_string(self):\n",
        "    cadena = ''\n",
        "    for renglon in self.__pollo:\n",
        "      cadena = cadena +'|'\n",
        "      for dato in renglon:\n",
        "        cadena = cadena +str(dato) +'|'\n",
        "      cadena = cadena +'\\n'\n",
        "    return cadena"
      ],
      "execution_count": 1,
      "outputs": []
    },
    {
      "cell_type": "code",
      "metadata": {
        "colab": {
          "base_uri": "https://localhost:8080/"
        },
        "id": "nK9lwoNLoZxB",
        "outputId": "cbe748dd-f31b-4eed-e56c-eae62e1f1522"
      },
      "source": [
        "a2d = Array2DADT( 3, 6)\n",
        "print(f'Renglones: { a2d.get_row_size() }')\n",
        "print(f'Columnas: { a2d.get_col_size() }')\n",
        "print(a2d.to_string())\n",
        "print('')\n",
        "a2d.clear('M')\n",
        "print(a2d.to_string())\n",
        "a2d.set_item(2, 3, 'p')\n",
        "print(a2d.to_string())\n",
        "print(a2d.get_item(2, 3))"
      ],
      "execution_count": 2,
      "outputs": [
        {
          "output_type": "stream",
          "name": "stdout",
          "text": [
            "Renglones: 3\n",
            "Columnas: 6\n",
            "|0|0|0|0|0|0|\n",
            "|0|0|0|0|0|0|\n",
            "|0|0|0|0|0|0|\n",
            "\n",
            "\n",
            "|M|M|M|M|M|M|\n",
            "|M|M|M|M|M|M|\n",
            "|M|M|M|M|M|M|\n",
            "\n",
            "|M|M|M|M|M|M|\n",
            "|M|M|M|M|M|M|\n",
            "|M|M|M|p|M|M|\n",
            "\n",
            "p\n"
          ]
        }
      ]
    },
    {
      "cell_type": "code",
      "metadata": {
        "id": "LCuqA1wU3yy6"
      },
      "source": [
        "\"\"\"\n",
        "Los datos iniciales como lo son:\n",
        "1-. \n",
        "5\n",
        "5\n",
        "0,0,0,0,0\n",
        "0,0,1,0,0\n",
        "0,1,1,1,0\n",
        "0,0,0,0,0\n",
        "0,0,0,0,0\n",
        "10\n",
        "\"\"\"\n",
        "\n",
        "class JuegoDeLaVida:\n",
        "  def __init__(self, ruta_archivo):\n",
        "    self.rens = None\n",
        "    self.cols = None\n",
        "    self.tablero = None\n",
        "    self.generaciones = None\n",
        "    self.read_game_data(ruta_archivo)\n",
        "\n",
        "  def read_game_data(self, archivo):\n",
        "    archivo = open(archivo, 'rt')\n",
        "    lineas = archivo.readlines()\n",
        "    for index in range(len(lineas)):\n",
        "      lineas[index] = lineas[index].strip()\n",
        "    # print(lineas)\n",
        "    self.rens = int(lineas[0])\n",
        "    self.cols = int(lineas[1])\n",
        "    self.tablero = Array2DADT(self.rens, self.cols)\n",
        "    r = 0\n",
        "    c = 0\n",
        "    for index in range(2, 2+self.rens, 1):\n",
        "      c = 0\n",
        "      for dato in lineas[index].split(','):\n",
        "        self.tablero.set_item(r, c, int(dato))\n",
        "        c += 1\n",
        "      r += 1\n",
        "    self.generaciones = int(lineas[-1])\n",
        "    print('Gens: ',self.generaciones)\n",
        "    print(self.tablero.to_string())\n",
        "\n",
        "  def get_vecinos( self , r , c):\n",
        "    vecinos = []\n",
        "    for ren in range( r-1 , r+2 , 1 ):\n",
        "      for col in range(c-1 , c+2 , 1):\n",
        "        if ren < 0 or ren >= self.tablero.get_row_size() or col < 0 or col >= self.tablero.get_col_size() or (ren==r and col==c):\n",
        "          pass\n",
        "        else:\n",
        "          vecinos.append((ren,col))\n",
        "    return vecinos\n",
        "\n",
        "  def get_vecinos_vivos(self, r, c):\n",
        "    vecinos = self.get_vecinos(r,c)\n",
        "    vivos = 0\n",
        "    for par in vecinos:\n",
        "      if self.tablero.get_item(par[0], par[1])== 1:\n",
        "        vivos += 1\n",
        "    return vivos\n",
        "\n",
        "  def calcular_siguiente(self):\n",
        "    nueva_generacion = Array2DADT(self.rens, self.cols)\n",
        "    #Aplicar 4 reglas a cada celula y el resultado ponerlo en la nueva generación\n",
        "    for r in range(self.rens):\n",
        "      for cols in range(self.cols):\n",
        "        if self.tablero.get_item(r, cols) == 0:\n",
        "          if self.get_vecinos_vivos(r, cols) == 0:\n",
        "            print( f'{r},{cols}-->{self.get_vecinos_vivos(r, cols)}', end = '|')\n",
        "            self.tablero.set_item(r, cols, 0)\n",
        "          if self.get_vecinos_vivos(r, cols) == 3:\n",
        "            self.tablero.set_item(r, cols, 1)\n",
        "            self.tablero.set_item(r+1, cols+1, 0)\n",
        "          if self.get_vecinos_vivos(r, cols) == 1:\n",
        "            self.tablero.set_item(r, cols, 0)\n",
        "        elif self.tablero.get_item(r, cols) == 1:\n",
        "            if self.get_vecinos_vivos(r, cols) >= 1 and self.get_vecinos_vivos(r, cols)<= 3:\n",
        "              self.tablero.set_item(r, cols, 1)\n",
        "            elif self.get_vecinos_vivos(r, cols) > 3:\n",
        "              self.tablero.set_item(r, cols, 1)\n",
        "            elif self.get_vecinos_vivos(r, cols) == 0:\n",
        "              self.tablero.set_item(r, cols, 0)\n",
        "\n",
        "    print('\\n'+self.tablero.to_string())\n",
        "    print()\n",
        "    self.tablero = nueva_generacion"
      ],
      "execution_count": 69,
      "outputs": []
    },
    {
      "cell_type": "code",
      "metadata": {
        "id": "tKLcK-FR56bN",
        "colab": {
          "base_uri": "https://localhost:8080/"
        },
        "outputId": "f114fb7b-e13e-4bc8-92b2-64996d9d67dc"
      },
      "source": [
        "juego = JuegoDeLaVida('entrada.txt')\n",
        "print(juego.get_vecinos_vivos(1,1))\n",
        "print(juego.calcular_siguiente())"
      ],
      "execution_count": 79,
      "outputs": [
        {
          "output_type": "stream",
          "name": "stdout",
          "text": [
            "Gens:  10\n",
            "|1|0|0|\n",
            "|0|0|1|\n",
            "|0|0|1|\n",
            "\n",
            "3\n",
            "1,0-->0|2,0-->0|\n",
            "|0|0|0|\n",
            "|0|0|1|\n",
            "|0|0|1|\n",
            "\n",
            "\n",
            "None\n"
          ]
        }
      ]
    }
  ]
}