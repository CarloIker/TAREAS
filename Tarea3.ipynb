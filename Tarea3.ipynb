{
  "nbformat": 4,
  "nbformat_minor": 0,
  "metadata": {
    "colab": {
      "name": "Tarea3.ipynb",
      "provenance": [],
      "authorship_tag": "ABX9TyPlBmj0fvMAE+ITBpqcaGN3",
      "include_colab_link": true
    },
    "kernelspec": {
      "name": "python3",
      "display_name": "Python 3"
    },
    "language_info": {
      "name": "python"
    }
  },
  "cells": [
    {
      "cell_type": "markdown",
      "metadata": {
        "id": "view-in-github",
        "colab_type": "text"
      },
      "source": [
        "<a href=\"https://colab.research.google.com/github/CarloIker/TAREAS/blob/main/Tarea3.ipynb\" target=\"_parent\"><img src=\"https://colab.research.google.com/assets/colab-badge.svg\" alt=\"Open In Colab\"/></a>"
      ]
    },
    {
      "cell_type": "code",
      "metadata": {
        "colab": {
          "base_uri": "https://localhost:8080/"
        },
        "id": "b8GFKt2TnLnE",
        "outputId": "046c9be2-1f9a-4e0b-eb8a-451910b3cf01"
      },
      "source": [
        "mesa = input( \"MESA: \")\n",
        "comensal = input( \"COMENSAL: \")\n",
        "entrada = input( \"ENTRADA: \")\n",
        "medio = input( \"MEDIO: \")\n",
        "fuerte = input( \"FUERTE: \")\n",
        "opcion = int(input( \"HAY INFORMACIÓN ADICIONAL \\n1-.Si \\n2-.No\"))\n",
        "\n",
        "Detalles = {'MESA:': mesa,\n",
        "            'COMENSAL:': comensal,\n",
        "            'ENTRADA: ': entrada,\n",
        "            'MEDIO: ': medio,\n",
        "            'FUERTE: ': fuerte}\n",
        "\n",
        "Adicionales = []\n",
        "\n",
        "while opcion == 1:\n",
        "  adicionales = input( \"Ingrese información adicional: \")\n",
        "  Adicionales.append(adicionales)\n",
        "  Detalles['Adicionales:'] = Adicionales\n",
        "  opcion = int(input( \"HAY INFORMACIÓN ADICIONAL \\n1-.Si \\n2-.No\"))\n",
        "  \n",
        "\n",
        "for orden , dato in Detalles.items():\n",
        "  print(orden, dato)"
      ],
      "execution_count": 6,
      "outputs": [
        {
          "output_type": "stream",
          "name": "stdout",
          "text": [
            "MESA: 3\n",
            "COMENSAL: 2\n",
            "ENTRADA: Ensalada verde\n",
            "MEDIO: Crema de Zanahoria\n",
            "FUERTE: Filete\n",
            "HAY INFORMACIÓN ADICIONAL \n",
            "1-.Si \n",
            "2-.No1\n",
            "Ingrese información adicional: Filete termino medio\n",
            "HAY INFORMACIÓN ADICIONAL \n",
            "1-.Si \n",
            "2-.No1\n",
            "Ingrese información adicional: la ensalada sin ningún tipo de semilla\n",
            "HAY INFORMACIÓN ADICIONAL \n",
            "1-.Si \n",
            "2-.No1\n",
            "Ingrese información adicional: Adereso Ranch\n",
            "HAY INFORMACIÓN ADICIONAL \n",
            "1-.Si \n",
            "2-.No2\n",
            "MESA: 3\n",
            "COMENSAL: 2\n",
            "ENTRADA:  Ensalada verde\n",
            "MEDIO:  Crema de Zanahoria\n",
            "FUERTE:  Filete\n",
            "Adicionales: ['Filete termino medio', 'la ensalada sin ningún tipo de semilla', 'Adereso Ranch']\n"
          ]
        }
      ]
    }
  ]
}