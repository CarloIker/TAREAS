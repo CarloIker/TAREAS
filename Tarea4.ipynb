{
  "nbformat": 4,
  "nbformat_minor": 0,
  "metadata": {
    "colab": {
      "name": "Tarea4.ipynb",
      "provenance": [],
      "authorship_tag": "ABX9TyPqmahu/Yi/fFx+tiQVnVkv",
      "include_colab_link": true
    },
    "kernelspec": {
      "name": "python3",
      "display_name": "Python 3"
    },
    "language_info": {
      "name": "python"
    }
  },
  "cells": [
    {
      "cell_type": "markdown",
      "metadata": {
        "id": "view-in-github",
        "colab_type": "text"
      },
      "source": [
        "<a href=\"https://colab.research.google.com/github/CarloIker/TAREAS/blob/main/Tarea4.ipynb\" target=\"_parent\"><img src=\"https://colab.research.google.com/assets/colab-badge.svg\" alt=\"Open In Colab\"/></a>"
      ]
    },
    {
      "cell_type": "code",
      "metadata": {
        "colab": {
          "base_uri": "https://localhost:8080/"
        },
        "id": "rBiL2yHyaKGO",
        "outputId": "cd78b522-f309-465c-b59d-4b4e748ce5b2"
      },
      "source": [
        "import math\n",
        "datos = (float(input( \"Dato de a: \")), float(input(\"Dato de b: \")), float(input(\"Dato de c: \")))\n",
        "\n",
        "def chicharronero(informacion):\n",
        "  x1 = 0\n",
        "  x2 = 0\n",
        "  resultado = (datos[1]**2 - (4*informacion[0]*informacion[2]))\n",
        "  if resultado < 0:\n",
        "    print(\"No tiene solución real\")\n",
        "  else:\n",
        "    resultado = math.sqrt(datos[1]**2 - (4*informacion[0]*informacion[2]))\n",
        "    x1 = ((-1*informacion[1])+resultado) / (2*informacion[0])\n",
        "    x2 = ((-1*informacion[1])-resultado) / (2*informacion[0])\n",
        "    print(\"\\nX1 = {:.4f}\".format(x1))\n",
        "    print(\"X2 = {:.4f}\".format(x2))\n",
        "\n",
        "chicharronero(datos)"
      ],
      "execution_count": 16,
      "outputs": [
        {
          "output_type": "stream",
          "name": "stdout",
          "text": [
            "Dato de a: 5\n",
            "Dato de b: 57\n",
            "Dato de c: -36\n",
            "\n",
            "X1 = 0.6000\n",
            "X2 = -12.0000\n"
          ]
        }
      ]
    }
  ]
}