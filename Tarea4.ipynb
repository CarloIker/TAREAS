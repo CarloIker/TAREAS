{
  "nbformat": 4,
  "nbformat_minor": 0,
  "metadata": {
    "colab": {
      "name": "Tarea4.ipynb",
      "provenance": [],
      "authorship_tag": "ABX9TyNug659RKpBzFjH5D1MKauw",
      "include_colab_link": true
    },
    "kernelspec": {
      "name": "python3",
      "display_name": "Python 3"
    },
    "language_info": {
      "name": "python"
    }
  },
  "cells": [
    {
      "cell_type": "markdown",
      "metadata": {
        "id": "view-in-github",
        "colab_type": "text"
      },
      "source": [
        "<a href=\"https://colab.research.google.com/github/CarloIker/TAREAS/blob/main/Tarea4.ipynb\" target=\"_parent\"><img src=\"https://colab.research.google.com/assets/colab-badge.svg\" alt=\"Open In Colab\"/></a>"
      ]
    },
    {
      "cell_type": "code",
      "metadata": {
        "colab": {
          "base_uri": "https://localhost:8080/"
        },
        "id": "rBiL2yHyaKGO",
        "outputId": "d5f10b79-6bba-4a17-93cd-490548bb7985"
      },
      "source": [
        "import math\n",
        "datos = (float(input( \"Dato de a: \")), float(input(\"Dato de b: \")), float(input(\"Dato de c: \")))\n",
        "\n",
        "def chicharronero(informacion):\n",
        "  x1 = 0\n",
        "  x2 = 0\n",
        "  resultado = math.sqrt(datos[1]**2 - (4*informacion[0]*informacion[2]))\n",
        "  if resultado < 0:\n",
        "    print(\"No tiene solución real\")\n",
        "  else:\n",
        "    x1 = ((-1*informacion[1])+resultado) / (2*informacion[0])\n",
        "    x2 = ((-1*informacion[1])-resultado) / (2*informacion[0])\n",
        "    print(\"\\nX1 = {:.4f}\".format(x1))\n",
        "    print(\"X2 = {:.4f}\".format(x2))\n",
        "\n",
        "chicharronero(datos)"
      ],
      "execution_count": null,
      "outputs": [
        {
          "output_type": "stream",
          "name": "stdout",
          "text": [
            "Dato de a: 3\n",
            "Dato de b: -11\n",
            "Dato de c: -4\n",
            "\n",
            "X1 = 4.0000\n",
            "X2 = -0.3333\n"
          ]
        }
      ]
    }
  ]
}