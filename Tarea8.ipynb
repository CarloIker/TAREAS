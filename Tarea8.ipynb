{
  "nbformat": 4,
  "nbformat_minor": 0,
  "metadata": {
    "colab": {
      "name": "Tarea8.ipynb",
      "provenance": [],
      "authorship_tag": "ABX9TyNTUfF/2DFAqNVuy5/Qkh3/",
      "include_colab_link": true
    },
    "kernelspec": {
      "name": "python3",
      "display_name": "Python 3"
    },
    "language_info": {
      "name": "python"
    }
  },
  "cells": [
    {
      "cell_type": "markdown",
      "metadata": {
        "id": "view-in-github",
        "colab_type": "text"
      },
      "source": [
        "<a href=\"https://colab.research.google.com/github/CarloIker/TAREAS/blob/main/Tarea8.ipynb\" target=\"_parent\"><img src=\"https://colab.research.google.com/assets/colab-badge.svg\" alt=\"Open In Colab\"/></a>"
      ]
    },
    {
      "cell_type": "code",
      "metadata": {
        "id": "qqpg85QwBuBG"
      },
      "source": [
        "class NodoDoble:\n",
        "  def __init__(self, value, siguiente = None, previo = None):\n",
        "    self.data = value\n",
        "    self.next = siguiente\n",
        "    self.prev = previo"
      ],
      "execution_count": 1,
      "outputs": []
    },
    {
      "cell_type": "code",
      "metadata": {
        "id": "lqp_P0bf7tfC"
      },
      "source": [
        "class DoubleLinkedList:\n",
        "  #Constructor\n",
        "  def __init__(self):\n",
        "    self.head = None\n",
        "    self.tail = None\n",
        "    self.size = 0\n",
        "\n",
        "  #Get size\n",
        "  def get_size(self):\n",
        "    return self.size\n",
        "\n",
        "  #Empty\n",
        "  def is_empty(self):\n",
        "    return self.size == 0 #true si la lista está vacía\n",
        "\n",
        "  #Append\n",
        "  def append(self, value):\n",
        "    if self.is_empty():\n",
        "      self.head = NodoDoble(value)\n",
        "      self.tail = self.head\n",
        "    else:\n",
        "      self.tail.next = NodoDoble(value, None, self.tail)\n",
        "      self.tail = self.tail.next\n",
        "    self.size += 1\n",
        "\n",
        "  #Find from tail\n",
        "  def find_from_tail(self, value):\n",
        "    self.tail = self.head\n",
        "    while self.tail != value:\n",
        "      if self.tail.data == value and self.head.next != None:\n",
        "        print(f'Se encontro el valor de :{self.tail.data}')\n",
        "        return self.transversal()\n",
        "      elif self.tail.next == None:\n",
        "        print(f'No se encontró el valor {value}')\n",
        "        break\n",
        "      self.tail = self.tail.next\n",
        "      \n",
        "  #Find from head\n",
        "  def find_from_head(self, value):\n",
        "    while self.head != value:\n",
        "      if self.head.data == value:\n",
        "        print(f'Se encontro el valor de :{self.head.data}')\n",
        "        break\n",
        "      elif self.tail.next != None:\n",
        "        print(f'No se encontró el valor {value}')\n",
        "      self.head = self.head.next\n",
        "\n",
        "  #Remove from tail\n",
        "  def remove_from_tail(self, value):\n",
        "    curr_node = self.head\n",
        "    while curr_node.data != value:\n",
        "      curr_node = curr_node.next\n",
        "    if curr_node.data == value:\n",
        "      print(\"Encontrado\",curr_node.data)\n",
        "      curr_node.prev.next = curr_node.next\n",
        "      curr_node.next.prev = curr_node.prev\n",
        "      print(\"\", curr_node.prev.data)\n",
        "    self.size -= 1\n",
        "\n",
        "  #Transversal\n",
        "  def transversal(self):\n",
        "    curr_node = self.head\n",
        "    while curr_node != None:\n",
        "      print(f'| {curr_node.data} |-->', end= '')\n",
        "      curr_node = curr_node.next\n",
        "    print('')\n",
        "\n",
        "  #Reverse transversal\n",
        "  def reverse_transversal(self):\n",
        "    curr_node = self.tail\n",
        "    while curr_node != None:\n",
        "      print(f'| {curr_node.data} |-->', end= '')\n",
        "      curr_node = curr_node.prev\n",
        "    print('')"
      ],
      "execution_count": 2,
      "outputs": []
    },
    {
      "cell_type": "code",
      "metadata": {
        "colab": {
          "base_uri": "https://localhost:8080/"
        },
        "id": "aGbCQiep7xpj",
        "outputId": "672ea5b7-9138-438e-e126-df230727c74f"
      },
      "source": [
        "ldl = DoubleLinkedList()\n",
        "ldl.append(10)\n",
        "ldl.append(20)\n",
        "ldl.transversal()\n",
        "print(f'Está vacía?')\n",
        "\n",
        "print('\\n')\n",
        "print('FIND FROM TAIL'.center(30, '-'))\n",
        "ldl.find_from_tail(10)\n",
        "ldl.find_from_tail(30)\n",
        "\n",
        "print('\\n')\n",
        "print('FIND FROM HEAD'.center(30, '-'))\n",
        "ldl.find_from_head(20)\n",
        "\n",
        "print('\\n')\n",
        "print('REVERSE TRANSVERSAL'.center(30, '-'))\n",
        "ldl.reverse_transversal()"
      ],
      "execution_count": 3,
      "outputs": [
        {
          "output_type": "stream",
          "name": "stdout",
          "text": [
            "| 10 |-->| 20 |-->\n",
            "Está vacía?\n",
            "\n",
            "\n",
            "--------FIND FROM TAIL--------\n",
            "Se encontro el valor de :10\n",
            "| 10 |-->| 20 |-->\n",
            "No se encontró el valor 30\n",
            "\n",
            "\n",
            "--------FIND FROM HEAD--------\n",
            "Se encontro el valor de :20\n",
            "\n",
            "\n",
            "-----REVERSE TRANSVERSAL------\n",
            "| 20 |-->| 10 |-->\n"
          ]
        }
      ]
    }
  ]
}