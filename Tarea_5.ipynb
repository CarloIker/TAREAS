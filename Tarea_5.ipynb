{
  "nbformat": 4,
  "nbformat_minor": 0,
  "metadata": {
    "colab": {
      "name": "Tarea_5.ipynb",
      "provenance": [],
      "authorship_tag": "ABX9TyPfmnUXYhaZJrIUNbebM9d+",
      "include_colab_link": true
    },
    "kernelspec": {
      "name": "python3",
      "display_name": "Python 3"
    },
    "language_info": {
      "name": "python"
    }
  },
  "cells": [
    {
      "cell_type": "markdown",
      "metadata": {
        "id": "view-in-github",
        "colab_type": "text"
      },
      "source": [
        "<a href=\"https://colab.research.google.com/github/CarloIker/TAREAS/blob/main/Tarea_5.ipynb\" target=\"_parent\"><img src=\"https://colab.research.google.com/assets/colab-badge.svg\" alt=\"Open In Colab\"/></a>"
      ]
    },
    {
      "cell_type": "code",
      "metadata": {
        "colab": {
          "base_uri": "https://localhost:8080/"
        },
        "id": "dtboni-oJNd4",
        "outputId": "c64946b9-8291-4b5f-e198-ea51bcd8298d"
      },
      "source": [
        "!cat junio.dat"
      ],
      "execution_count": null,
      "outputs": [
        {
          "output_type": "stream",
          "name": "stdout",
          "text": [
            "numero de trabajador, nombres, paterno, materno, horas extra, sueldo base, año de ingreso\r\n",
            "2345,CARLOS,PEREZ,CASTILLO,0,9850,2017\r\n",
            "5754,ANGEL,GOMEZ,GARRIDO,1,9850,2020\r\n",
            "5345,JESUS,MARTIN,SANTOS,2,9850,2016\r\n",
            "3267,DAVID,JIMENEZ,LOZANO,2,9850,2017\r\n",
            "8765,PEDRO,RUIZ,GUERRERO,2,9850,2017\r\n",
            "5454,DANIEL,HERNANDEZ,CANO,3,9850,2018\r\n",
            "3456,ALEJANDRO,DIAZ,PRIETO,2,9850,2018\r\n",
            "3445,MARIA,MORENO,MENDEZ,1,9850,2018\r\n",
            "9088,ALBERTO,MU�OZ,CRUZ,1,9850,2017\r\n",
            "8877,RAFAEL,ALVAREZ,FLORES,2,9850,2017\r\n",
            "6767,FERNANDO,ROMERO,HERRERA,4,9850,2019\r\n",
            "5654,PABLO,ALONSO,GALLEGO,1,9850,2019\r\n",
            "4323,JORGE,GUTIERREZ,MARQUEZ,2,9850,2020\r\n",
            "2232,RAMON,NAVARRO,LEON,1,9850,2016"
          ]
        }
      ]
    },
    {
      "cell_type": "code",
      "metadata": {
        "id": "Q9KbQboXXClo"
      },
      "source": [
        "s"
      ],
      "execution_count": null,
      "outputs": []
    },
    {
      "cell_type": "code",
      "metadata": {
        "id": "lxZKYcwAJgsn"
      },
      "source": [
        "class Trabajador:\n",
        "  def __init__(self, nt, nom, pat, mat, he, sb, ai):\n",
        "    self.__numero_trabajador = nt\n",
        "    self.__nombre = nom\n",
        "    self.__paterno = pat\n",
        "    self.__materno = mat\n",
        "    self.__horas_extra = he\n",
        "    self.__sueldo_base = sb\n",
        "    self.__año_ingreso = ai\n",
        "\n",
        "  def set_numero_trabajador(self, nt):\n",
        "    self.__numero_trabajador = nt\n",
        "\n",
        "  def get_numero_trabajador(self):\n",
        "    return self.__numero_trabajador\n",
        "\n",
        "  def set_nombre(self, nom):\n",
        "    self.__nombre = nom\n",
        "\n",
        "  def get_nombre(self):\n",
        "    return self.__nombre\n",
        "\n",
        "  def set_paterno(self, pat):\n",
        "    self.__paterno = pat\n",
        "\n",
        "  def get_paterno(self):\n",
        "    return self.__paterno\n",
        "\n",
        "  def set_materno(self, mat):\n",
        "    self.__materno = mat\n",
        "\n",
        "  def get_materno(self):\n",
        "    return self.__materno\n",
        "\n",
        "  def set_horas_extra(self, he):\n",
        "    self.__horas_extra = he\n",
        "\n",
        "  def get_horas_extra(self):\n",
        "    return self.__horas_extra\n",
        "\n",
        "  def set_sueldo_base(self, sb):\n",
        "    self.__sueldo_base = sb\n",
        "\n",
        "  def get_sueldo_base(self):\n",
        "    return self.__sueldo_base\n",
        "\n",
        "  def set_anio_ingreso(self, ai):\n",
        "    self.__año_ingreso = ai\n",
        "\n",
        "  def get_anio_ingreso(self):\n",
        "    return self.__año_ingreso\n",
        "\n",
        "  #metodos de uso general. --> metodos que hacen calculos de la logica de neg\n",
        "  def calcular_sueldo_mensual(self):\n",
        "    anios = 2021 - self.get_anio_ingreso()\n",
        "\n",
        "    sueldo = self.get_sueldo_base()\n",
        "\n",
        "    sueldo += self.get_horas_extra() * 276.5\n",
        "    sueldo = sueldo +(sueldo * anios *0.03)\n",
        "    return sueldo\n",
        "\n",
        "  def to_string(self):\n",
        "    return 'Nombre: ' +self.__nombre +' Sueldo: ' +str(self.calcular_sueldo_mensual())\n",
        "\n",
        "  def calcular_antiguedad(self):\n",
        "    return 2021 - self.get_anio_ingreso()"
      ],
      "execution_count": null,
      "outputs": []
    },
    {
      "cell_type": "code",
      "metadata": {
        "colab": {
          "base_uri": "https://localhost:8080/"
        },
        "id": "aM1Qh8GIMqTy",
        "outputId": "097f7895-628c-4910-deb5-b402d8c8d88a"
      },
      "source": [
        "class NominaADT:\n",
        "  def __init__(self, ruta_archivo):\n",
        "    #Abrir el archivo y determinar el numero de empleados --> num_emp\n",
        "    self.ruta_archivo = ruta_archivo\n",
        "    self.archivo = open(self.ruta_archivo, 'rt', encoding = 'latin-1')\n",
        "    empleados = self.archivo.readlines()\n",
        "    del empleados[0]\n",
        "    for index in range(len(empleados)):\n",
        "      empleados[index] = empleados[index].strip().split(',')\n",
        "    self.__data = Array(len(empleados))\n",
        "    cont = 0\n",
        "    for emp in empleados:\n",
        "      trp = Trabajador(emp[0], emp[1], emp[2], emp[3], int(emp[4]), int(emp[5]), int(emp[6]),)\n",
        "      self.__data.set_item(trp, cont)\n",
        "      cont += 1\n",
        "    \n",
        "\n",
        "  def calcular_sueldos(self):\n",
        "    #iterar sobre el Array y hacer un calculo de sueldos\n",
        "    pass\n",
        "      \n",
        "  def buscar_mas_antiguo(self):\n",
        "    #iterar y buscara en el array el de mayor antiguedad en el puesto\n",
        "    pass\n",
        "\n",
        "  def buscar_menor_antiguedad(self):\n",
        "    #\n",
        "    pass\n",
        "\n",
        "  def print_empleados(self):\n",
        "    for index in range(self.__data.get_lenght()):\n",
        "      print(self.__data.get_item(index).to_string())\n",
        "\n",
        "ejemplo = NominaADT('junio.dat')\n",
        "ejemplo.print_empleados()\n",
        "ejemplo.calcular_sueldos()"
      ],
      "execution_count": null,
      "outputs": [
        {
          "output_type": "stream",
          "name": "stdout",
          "text": [
            "Nombre: CARLOS Sueldo: 11032.0\n",
            "Nombre: ANGEL Sueldo: 10430.295\n",
            "Nombre: JESUS Sueldo: 11963.45\n",
            "Nombre: DAVID Sueldo: 11651.36\n",
            "Nombre: PEDRO Sueldo: 11651.36\n",
            "Nombre: DANIEL Sueldo: 11640.655\n",
            "Nombre: ALEJANDRO Sueldo: 11339.27\n",
            "Nombre: MARIA Sueldo: 11037.885\n",
            "Nombre: ALBERTO Sueldo: 11341.68\n",
            "Nombre: RAFAEL Sueldo: 11651.36\n",
            "Nombre: FERNANDO Sueldo: 11613.36\n",
            "Nombre: PABLO Sueldo: 10734.09\n",
            "Nombre: JORGE Sueldo: 10715.09\n",
            "Nombre: RAMON Sueldo: 11645.475\n"
          ]
        }
      ]
    }
  ]
}