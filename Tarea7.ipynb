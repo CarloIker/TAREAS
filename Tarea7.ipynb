{
  "nbformat": 4,
  "nbformat_minor": 0,
  "metadata": {
    "colab": {
      "name": "Tarea7.ipynb",
      "provenance": [],
      "authorship_tag": "ABX9TyNAEs9L7XxRjLfwp1m6XEgb",
      "include_colab_link": true
    },
    "kernelspec": {
      "name": "python3",
      "display_name": "Python 3"
    },
    "language_info": {
      "name": "python"
    }
  },
  "cells": [
    {
      "cell_type": "markdown",
      "metadata": {
        "id": "view-in-github",
        "colab_type": "text"
      },
      "source": [
        "<a href=\"https://colab.research.google.com/github/CarloIker/TAREAS/blob/main/Tarea7.ipynb\" target=\"_parent\"><img src=\"https://colab.research.google.com/assets/colab-badge.svg\" alt=\"Open In Colab\"/></a>"
      ]
    },
    {
      "cell_type": "code",
      "metadata": {
        "id": "Ho9N1sF98Sri"
      },
      "source": [
        "class Nodo:\n",
        "  def __init__(self, value, siguiente = None):\n",
        "    self.data = value\n",
        "    self.next = siguiente"
      ],
      "execution_count": 1,
      "outputs": []
    },
    {
      "cell_type": "code",
      "metadata": {
        "id": "XoUi-f088eH3"
      },
      "source": [
        "class LinkedList:\n",
        "  #Constructor\n",
        "  def __init__(self):\n",
        "    self.head = None\n",
        "\n",
        "  #Empy\n",
        "  def is_empty(self):\n",
        "    return self.head == None\n",
        "\n",
        "  #Tail\n",
        "  def get_tail(self):\n",
        "    if self.is_empty():\n",
        "      return None\n",
        "    else:\n",
        "      curr_node = self.head\n",
        "      while curr_node.next != None:\n",
        "        curr_node = curr_node.next\n",
        "      return curr_node \n",
        "\n",
        "  #Append\n",
        "  def append(self, value):\n",
        "    if self.head == None:\n",
        "      self.head = Nodo(value)\n",
        "    else: \n",
        "      curr_node = self.head\n",
        "      while curr_node.next != None:\n",
        "        curr_node = curr_node.next\n",
        "      curr_node.next = Nodo(value)\n",
        "\n",
        "  #Prepend\n",
        "  def prepend(self, value):\n",
        "    if self.head == None:\n",
        "      print('Está vacio, no se puede hacer prepend')\n",
        "    else:\n",
        "      aux = self.head\n",
        "      self.head = Nodo(value, aux)\n",
        "\n",
        "  #Transversal\n",
        "  def transversal(self):\n",
        "    curr_node = self.head\n",
        "    while curr_node != None:\n",
        "      print(f'| {curr_node.data} |-->', end='')\n",
        "      curr_node = curr_node.next\n",
        "    print('')\n",
        "\n",
        "  #Remove\n",
        "  def remove(self, value):\n",
        "    if self.head == None:\n",
        "      print('Lista vacia no se puede remover nada')\n",
        "    else:\n",
        "      curr_node = self.head\n",
        "      aux = None\n",
        "      while curr_node.data != value:\n",
        "        aux = curr_node\n",
        "        curr_node = curr_node.next\n",
        "      if curr_node != None:\n",
        "        aux.next = curr_node.next\n",
        "        curr_node = None\n",
        "\n",
        "  #Pop\n",
        "  def pop(self):\n",
        "    curr_node = self.head.next\n",
        "    while curr_node != None:\n",
        "      if curr_node.next != None:\n",
        "        curr_node = curr_node.next\n",
        "      else:\n",
        "        print(f'El ultimo elemento es: {curr_node.data}')\n",
        "        break\n",
        "\n",
        "  #Pop first\n",
        "  def pop_first(self):\n",
        "    curr_node = self.head\n",
        "    while curr_node.data != None:\n",
        "      if curr_node != None:\n",
        "        print(f'El primer elemento es: {curr_node.data}')\n",
        "        break\n",
        "      else:\n",
        "        pass"
      ],
      "execution_count": 2,
      "outputs": []
    },
    {
      "cell_type": "code",
      "metadata": {
        "colab": {
          "base_uri": "https://localhost:8080/"
        },
        "id": "YnARcsZE8fx4",
        "outputId": "34c73b79-b811-460e-f547-502ff0a4e403"
      },
      "source": [
        "lista = LinkedList()\n",
        "if lista.is_empty():\n",
        "  print('La lista está vacia')\n",
        "else:\n",
        "  print('La lista no está vacia')\n",
        "\n",
        "lista.append(10)\n",
        "lista.append(20)\n",
        "lista.append(30)\n",
        "lista.append(30)\n",
        "lista.append(40)\n",
        "lista.append(50)\n",
        "nodo = lista.get_tail()\n",
        "if nodo != None:\n",
        "  print(nodo.data)\n",
        "else:\n",
        "  print('La lista está vacia')\n",
        "\n",
        "lista.transversal()\n",
        "lista.remove(30)\n",
        "lista.transversal()\n",
        "lista.pop_first()\n",
        "lista.pop()\n",
        "\n",
        "print('\\nAgregamos un 5 al inicio')\n",
        "lista.prepend(5)\n",
        "lista.transversal()\n",
        "lista.pop_first()\n",
        "\n",
        "print('\\nAgregamos un 60 al final')\n",
        "lista.append(60)\n",
        "lista.transversal()\n",
        "lista.pop()"
      ],
      "execution_count": 4,
      "outputs": [
        {
          "output_type": "stream",
          "name": "stdout",
          "text": [
            "La lista está vacia\n",
            "50\n",
            "| 10 |-->| 20 |-->| 30 |-->| 30 |-->| 40 |-->| 50 |-->\n",
            "| 10 |-->| 20 |-->| 30 |-->| 40 |-->| 50 |-->\n",
            "El primer elemento es: 10\n",
            "El ultimo elemento es: 50\n",
            "\n",
            "Agregamos un 5 al inicio\n",
            "| 5 |-->| 10 |-->| 20 |-->| 30 |-->| 40 |-->| 50 |-->\n",
            "El primer elemento es: 5\n",
            "\n",
            "Agregamos un 60 al final\n",
            "| 5 |-->| 10 |-->| 20 |-->| 30 |-->| 40 |-->| 50 |-->| 60 |-->\n",
            "El ultimo elemento es: 60\n"
          ]
        }
      ]
    }
  ]
}