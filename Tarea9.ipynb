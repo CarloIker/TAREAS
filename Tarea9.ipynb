{
  "nbformat": 4,
  "nbformat_minor": 0,
  "metadata": {
    "colab": {
      "name": "Tarea9.ipynb",
      "provenance": [],
      "collapsed_sections": [],
      "authorship_tag": "ABX9TyNgijCt9Q2y/l67DIb+CUhg",
      "include_colab_link": true
    },
    "kernelspec": {
      "name": "python3",
      "display_name": "Python 3"
    },
    "language_info": {
      "name": "python"
    }
  },
  "cells": [
    {
      "cell_type": "markdown",
      "metadata": {
        "id": "view-in-github",
        "colab_type": "text"
      },
      "source": [
        "<a href=\"https://colab.research.google.com/github/CarloIker/TAREAS/blob/main/Tarea9.ipynb\" target=\"_parent\"><img src=\"https://colab.research.google.com/assets/colab-badge.svg\" alt=\"Open In Colab\"/></a>"
      ]
    },
    {
      "cell_type": "code",
      "metadata": {
        "id": "teBPhUT4aosZ"
      },
      "source": [
        "class StackADT:\n",
        "  def __init__(self):\n",
        "    self.__data = list()\n",
        "\n",
        "  def is_empty(self):\n",
        "    return len(self.__data) == 0\n",
        "\n",
        "  def get_lenght(self):\n",
        "    return len(self.__data)\n",
        "\n",
        "  def pop(self):\n",
        "    if self.is_empty():\n",
        "      print('Pila vacía, nada que sacar')\n",
        "    else:\n",
        "      return self.__data.pop()\n",
        "\n",
        "  def peek(self):\n",
        "    if self.is_empty():\n",
        "      print('Pila vacía, nada que sacar')\n",
        "    else:\n",
        "      return self.__data[-1]\n",
        "\n",
        "  def push(self, value):\n",
        "    return self.__data.append(value)\n",
        "\n",
        "  def to_string(self):\n",
        "    for item in self.__data[ : : -1]:\n",
        "      print(f'| {item} |')"
      ],
      "execution_count": 1,
      "outputs": []
    },
    {
      "cell_type": "code",
      "metadata": {
        "colab": {
          "base_uri": "https://localhost:8080/"
        },
        "id": "qxpu43LTawg6",
        "outputId": "4dbc74d0-09ee-4fa0-da13-f59966f51c91"
      },
      "source": [
        "entrada = open('prog.txt', 'rt')\n",
        "codigo = entrada.read()\n",
        "#print(codigo)\n",
        "pilaControl = StackADT()\n",
        "pilaControl.push(\"#\") #caracter pila vacía\n",
        "\n",
        "for letra in codigo:\n",
        "  #print(f'--> {letra} <--')\n",
        "  if letra == '{': #regla 1\n",
        "    pilaControl.push('{')\n",
        "  elif letra == '}': #regla 2\n",
        "    basura = pilaControl.pop()\n",
        "  else:\n",
        "    pass\n",
        "    \n",
        "\n",
        "for letra in codigo:\n",
        "  if letra == '(':\n",
        "    pilaControl.push('(')\n",
        "  elif letra == ')':\n",
        "    basura = pilaControl.pop()\n",
        "  else:\n",
        "    pass\n",
        "\n",
        "#NOTA: Este codigo aun no contempla balanceo de mas llaves de cierre\n",
        "if pilaControl.peek() == '#':\n",
        "  print('El codigo esta correctamente balanceado')\n",
        "else:\n",
        "  print('El codigo no está blanceado en llaves { y }')\n",
        "\n",
        "if pilaControl.peek() == '#':\n",
        "  print('El codigo está blanceado en ()')\n",
        "else:\n",
        "  print('El codigo no está balanceado en ()')"
      ],
      "execution_count": 3,
      "outputs": [
        {
          "output_type": "stream",
          "name": "stdout",
          "text": [
            "El codigo esta correctamente balanceado\n",
            "El codigo está blanceado en ()\n"
          ]
        }
      ]
    }
  ]
}